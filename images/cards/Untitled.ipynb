{
 "cells": [
  {
   "cell_type": "code",
   "execution_count": 1,
   "metadata": {},
   "outputs": [],
   "source": [
    "deck = ['B1', 'B2', 'B3', 'B4', 'B5', 'B6', 'B7', 'B8', 'B9', 'B10', 'B11', 'B12', 'B13']"
   ]
  },
  {
   "cell_type": "code",
   "execution_count": 7,
   "metadata": {},
   "outputs": [],
   "source": [
    "values = range(1,14)"
   ]
  },
  {
   "cell_type": "code",
   "execution_count": 12,
   "metadata": {},
   "outputs": [],
   "source": [
    "deck_dict = {}\n",
    "for d, v in zip(deck, values):\n",
    "    deck_dict.update({d:v})\n",
    "    "
   ]
  },
  {
   "cell_type": "code",
   "execution_count": 9,
   "metadata": {},
   "outputs": [
    {
     "data": {
      "text/plain": [
       "{'B1': 1,\n",
       " 'B2': 2,\n",
       " 'B3': 3,\n",
       " 'B4': 4,\n",
       " 'B5': 5,\n",
       " 'B6': 6,\n",
       " 'B7': 7,\n",
       " 'B8': 8,\n",
       " 'B9': 9,\n",
       " 'B10': 10,\n",
       " 'B11': 11,\n",
       " 'B12': 12,\n",
       " 'B13': 13}"
      ]
     },
     "execution_count": 9,
     "metadata": {},
     "output_type": "execute_result"
    }
   ],
   "source": [
    "deck_dict"
   ]
  },
  {
   "cell_type": "code",
   "execution_count": 14,
   "metadata": {},
   "outputs": [],
   "source": [
    "deck1 = ['G1', 'G2', 'G3', 'G4', 'G5', 'G6', 'G7', 'G8', 'G9', 'G10', 'G11', 'G12', 'G13']\n"
   ]
  },
  {
   "cell_type": "code",
   "execution_count": 15,
   "metadata": {},
   "outputs": [],
   "source": [
    "deck_dict2 = {}\n",
    "for d, v in zip(deck1, values):\n",
    "    deck_dict2.update({d:v})"
   ]
  },
  {
   "cell_type": "code",
   "execution_count": 17,
   "metadata": {},
   "outputs": [
    {
     "data": {
      "text/plain": [
       "({'B1': 1,\n",
       "  'B2': 2,\n",
       "  'B3': 3,\n",
       "  'B4': 4,\n",
       "  'B5': 5,\n",
       "  'B6': 6,\n",
       "  'B7': 7,\n",
       "  'B8': 8,\n",
       "  'B9': 9,\n",
       "  'B10': 10,\n",
       "  'B11': 11,\n",
       "  'B12': 12,\n",
       "  'B13': 13},\n",
       " {'G1': 1,\n",
       "  'G2': 2,\n",
       "  'G3': 3,\n",
       "  'G4': 4,\n",
       "  'G5': 5,\n",
       "  'G6': 6,\n",
       "  'G7': 7,\n",
       "  'G8': 8,\n",
       "  'G9': 9,\n",
       "  'G10': 10,\n",
       "  'G11': 11,\n",
       "  'G12': 12,\n",
       "  'G13': 13})"
      ]
     },
     "execution_count": 17,
     "metadata": {},
     "output_type": "execute_result"
    }
   ],
   "source": [
    "deck_dict, deck_dict2"
   ]
  },
  {
   "cell_type": "code",
   "execution_count": 19,
   "metadata": {},
   "outputs": [],
   "source": [
    "deck_dict.update(deck_dict2)"
   ]
  },
  {
   "cell_type": "code",
   "execution_count": 20,
   "metadata": {},
   "outputs": [
    {
     "data": {
      "text/plain": [
       "{'B1': 1,\n",
       " 'B2': 2,\n",
       " 'B3': 3,\n",
       " 'B4': 4,\n",
       " 'B5': 5,\n",
       " 'B6': 6,\n",
       " 'B7': 7,\n",
       " 'B8': 8,\n",
       " 'B9': 9,\n",
       " 'B10': 10,\n",
       " 'B11': 11,\n",
       " 'B12': 12,\n",
       " 'B13': 13,\n",
       " 'G1': 1,\n",
       " 'G2': 2,\n",
       " 'G3': 3,\n",
       " 'G4': 4,\n",
       " 'G5': 5,\n",
       " 'G6': 6,\n",
       " 'G7': 7,\n",
       " 'G8': 8,\n",
       " 'G9': 9,\n",
       " 'G10': 10,\n",
       " 'G11': 11,\n",
       " 'G12': 12,\n",
       " 'G13': 13}"
      ]
     },
     "execution_count": 20,
     "metadata": {},
     "output_type": "execute_result"
    }
   ],
   "source": [
    "deck_dict"
   ]
  },
  {
   "cell_type": "code",
   "execution_count": null,
   "metadata": {},
   "outputs": [],
   "source": []
  }
 ],
 "metadata": {
  "kernelspec": {
   "display_name": "Python 3",
   "language": "python",
   "name": "python3"
  },
  "language_info": {
   "codemirror_mode": {
    "name": "ipython",
    "version": 3
   },
   "file_extension": ".py",
   "mimetype": "text/x-python",
   "name": "python",
   "nbconvert_exporter": "python",
   "pygments_lexer": "ipython3",
   "version": "3.8.3"
  }
 },
 "nbformat": 4,
 "nbformat_minor": 4
}
