{
 "cells": [
  {
   "cell_type": "code",
   "execution_count": 1,
   "metadata": {},
   "outputs": [],
   "source": [
    "deck = ['B1', 'B2', 'B3', 'B4', 'B5', 'B6', 'B7', 'B8', 'B9', 'B10', 'B11', 'B12', 'B13']"
   ]
  },
  {
   "cell_type": "code",
   "execution_count": 7,
   "metadata": {},
   "outputs": [],
   "source": [
    "values = range(1,14)"
   ]
  },
  {
   "cell_type": "code",
   "execution_count": 12,
   "metadata": {},
   "outputs": [],
   "source": [
    "deck_dict = {}\n",
    "for d, v in zip(deck, values):\n",
    "    deck_dict.update({d:v})\n",
    "    "
   ]
  },
  {
   "cell_type": "code",
   "execution_count": 9,
   "metadata": {},
   "outputs": [
    {
     "data": {
      "text/plain": [
       "{'B1': 1,\n",
       " 'B2': 2,\n",
       " 'B3': 3,\n",
       " 'B4': 4,\n",
       " 'B5': 5,\n",
       " 'B6': 6,\n",
       " 'B7': 7,\n",
       " 'B8': 8,\n",
       " 'B9': 9,\n",
       " 'B10': 10,\n",
       " 'B11': 11,\n",
       " 'B12': 12,\n",
       " 'B13': 13}"
      ]
     },
     "execution_count": 9,
     "metadata": {},
     "output_type": "execute_result"
    }
   ],
   "source": [
    "deck_dict"
   ]
  },
  {
   "cell_type": "code",
   "execution_count": 14,
   "metadata": {},
   "outputs": [],
   "source": [
    "deck1 = ['G1', 'G2', 'G3', 'G4', 'G5', 'G6', 'G7', 'G8', 'G9', 'G10', 'G11', 'G12', 'G13']\n"
   ]
  },
  {
   "cell_type": "code",
   "execution_count": 15,
   "metadata": {},
   "outputs": [],
   "source": [
    "deck_dict2 = {}\n",
    "for d, v in zip(deck1, values):\n",
    "    deck_dict2.update({d:v})"
   ]
  },
  {
   "cell_type": "code",
   "execution_count": 17,
   "metadata": {},
   "outputs": [
    {
     "data": {
      "text/plain": [
       "({'B1': 1,\n",
       "  'B2': 2,\n",
       "  'B3': 3,\n",
       "  'B4': 4,\n",
       "  'B5': 5,\n",
       "  'B6': 6,\n",
       "  'B7': 7,\n",
       "  'B8': 8,\n",
       "  'B9': 9,\n",
       "  'B10': 10,\n",
       "  'B11': 11,\n",
       "  'B12': 12,\n",
       "  'B13': 13},\n",
       " {'G1': 1,\n",
       "  'G2': 2,\n",
       "  'G3': 3,\n",
       "  'G4': 4,\n",
       "  'G5': 5,\n",
       "  'G6': 6,\n",
       "  'G7': 7,\n",
       "  'G8': 8,\n",
       "  'G9': 9,\n",
       "  'G10': 10,\n",
       "  'G11': 11,\n",
       "  'G12': 12,\n",
       "  'G13': 13})"
      ]
     },
     "execution_count": 17,
     "metadata": {},
     "output_type": "execute_result"
    }
   ],
   "source": [
    "deck_dict, deck_dict2"
   ]
  },
  {
   "cell_type": "code",
   "execution_count": 19,
   "metadata": {},
   "outputs": [],
   "source": [
    "deck_dict.update(deck_dict2)"
   ]
  },
  {
   "cell_type": "code",
   "execution_count": 20,
   "metadata": {},
   "outputs": [
    {
     "data": {
      "text/plain": [
       "{'B1': 1,\n",
       " 'B2': 2,\n",
       " 'B3': 3,\n",
       " 'B4': 4,\n",
       " 'B5': 5,\n",
       " 'B6': 6,\n",
       " 'B7': 7,\n",
       " 'B8': 8,\n",
       " 'B9': 9,\n",
       " 'B10': 10,\n",
       " 'B11': 11,\n",
       " 'B12': 12,\n",
       " 'B13': 13,\n",
       " 'G1': 1,\n",
       " 'G2': 2,\n",
       " 'G3': 3,\n",
       " 'G4': 4,\n",
       " 'G5': 5,\n",
       " 'G6': 6,\n",
       " 'G7': 7,\n",
       " 'G8': 8,\n",
       " 'G9': 9,\n",
       " 'G10': 10,\n",
       " 'G11': 11,\n",
       " 'G12': 12,\n",
       " 'G13': 13}"
      ]
     },
     "execution_count": 20,
     "metadata": {},
     "output_type": "execute_result"
    }
   ],
   "source": [
    "deck_dict"
   ]
  },
  {
   "cell_type": "code",
   "execution_count": 28,
   "metadata": {},
   "outputs": [
    {
     "name": "stdout",
     "output_type": "stream",
     "text": [
      "B1\n",
      "B2\n",
      "B3\n",
      "B4\n",
      "B5\n",
      "B6\n",
      "B7\n",
      "B8\n",
      "B9\n",
      "B10\n",
      "B11\n",
      "B12\n",
      "B13\n",
      "G1\n",
      "G2\n",
      "G3\n",
      "G4\n",
      "G5\n",
      "G6\n",
      "G7\n",
      "G8\n",
      "G9\n",
      "G10\n",
      "G11\n",
      "G12\n",
      "G13\n"
     ]
    }
   ],
   "source": [
    "key_list = []\n",
    "for key in deck_dict.keys():\n",
    "    key_list.append(key)\n",
    "    print(key)"
   ]
  },
  {
   "cell_type": "code",
   "execution_count": 26,
   "metadata": {},
   "outputs": [
    {
     "data": {
      "text/plain": [
       "1"
      ]
     },
     "execution_count": 26,
     "metadata": {},
     "output_type": "execute_result"
    }
   ],
   "source": [
    "deck_dict['B1']"
   ]
  },
  {
   "cell_type": "code",
   "execution_count": 27,
   "metadata": {},
   "outputs": [],
   "source": [
    "import random"
   ]
  },
  {
   "cell_type": "code",
   "execution_count": 33,
   "metadata": {},
   "outputs": [
    {
     "ename": "TypeError",
     "evalue": "choice() got an unexpected keyword argument 'size'",
     "output_type": "error",
     "traceback": [
      "\u001b[0;31m---------------------------------------------------------------------------\u001b[0m",
      "\u001b[0;31mTypeError\u001b[0m                                 Traceback (most recent call last)",
      "\u001b[0;32m<ipython-input-33-8e7c4e273d92>\u001b[0m in \u001b[0;36m<module>\u001b[0;34m\u001b[0m\n\u001b[0;32m----> 1\u001b[0;31m \u001b[0mrandom\u001b[0m\u001b[0;34m.\u001b[0m\u001b[0mchoice\u001b[0m\u001b[0;34m(\u001b[0m\u001b[0mkey_list\u001b[0m\u001b[0;34m,\u001b[0m \u001b[0msize\u001b[0m\u001b[0;34m=\u001b[0m\u001b[0;36m10\u001b[0m\u001b[0;34m)\u001b[0m\u001b[0;34m\u001b[0m\u001b[0;34m\u001b[0m\u001b[0m\n\u001b[0m",
      "\u001b[0;31mTypeError\u001b[0m: choice() got an unexpected keyword argument 'size'"
     ]
    }
   ],
   "source": [
    "random.choice(key_list)"
   ]
  },
  {
   "cell_type": "code",
   "execution_count": 29,
   "metadata": {},
   "outputs": [
    {
     "data": {
      "text/plain": [
       "['B1',\n",
       " 'B2',\n",
       " 'B3',\n",
       " 'B4',\n",
       " 'B5',\n",
       " 'B6',\n",
       " 'B7',\n",
       " 'B8',\n",
       " 'B9',\n",
       " 'B10',\n",
       " 'B11',\n",
       " 'B12',\n",
       " 'B13',\n",
       " 'G1',\n",
       " 'G2',\n",
       " 'G3',\n",
       " 'G4',\n",
       " 'G5',\n",
       " 'G6',\n",
       " 'G7',\n",
       " 'G8',\n",
       " 'G9',\n",
       " 'G10',\n",
       " 'G11',\n",
       " 'G12',\n",
       " 'G13']"
      ]
     },
     "execution_count": 29,
     "metadata": {},
     "output_type": "execute_result"
    }
   ],
   "source": [
    "key_list"
   ]
  },
  {
   "cell_type": "code",
   "execution_count": null,
   "metadata": {},
   "outputs": [],
   "source": []
  }
 ],
 "metadata": {
  "kernelspec": {
   "display_name": "Python 3",
   "language": "python",
   "name": "python3"
  },
  "language_info": {
   "codemirror_mode": {
    "name": "ipython",
    "version": 3
   },
   "file_extension": ".py",
   "mimetype": "text/x-python",
   "name": "python",
   "nbconvert_exporter": "python",
   "pygments_lexer": "ipython3",
   "version": "3.8.3"
  }
 },
 "nbformat": 4,
 "nbformat_minor": 4
}
